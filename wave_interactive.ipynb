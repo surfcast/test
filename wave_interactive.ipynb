{
 "cells": [
  {
   "cell_type": "code",
   "execution_count": 1,
   "id": "gothic-appreciation",
   "metadata": {},
   "outputs": [],
   "source": [
    "import os\n",
    "from pathlib import Path\n",
    "import datetime as dt\n",
    "\n",
    "import json\n",
    "import xarray as xr\n",
    "import numpy as np\n",
    "import pandas as pd\n",
    "from netCDF4 import Dataset as netcdf_dataset\n",
    "\n",
    "import cmocean\n",
    "\n",
    "# adding this line to be able to execute script as a cronjob\n",
    "# see: https://basemaptutorial.readthedocs.io/en/latest/cron.html\n",
    "import matplotlib as mpl\n",
    "\n",
    "#mpl.use('Agg')\n",
    "import matplotlib.pyplot as plt\n",
    "import cartopy.crs as ccrs\n",
    "\n",
    "from matplotlib.colors import BoundaryNorm\n",
    "from matplotlib.ticker import MaxNLocator\n",
    "from matplotlib.transforms import offset_copy\n",
    "\n",
    "from math import floor\n",
    "from scp import SCPClient\n",
    "from ftplib import FTP"
   ]
  },
  {
   "cell_type": "code",
   "execution_count": 2,
   "id": "affecting-exercise",
   "metadata": {},
   "outputs": [],
   "source": [
    "class Settings(object):\n",
    "    _instance = None\n",
    "    _fname = \"test_settings.json\"\n",
    "    _data = {}\n",
    "\n",
    "    def set_config(self,_fname):\n",
    "        with open(_fname) as json_file:\n",
    "            self._data = json.load(json_file)\n",
    "        if not os.path.exists(self._data['data_dir']):\n",
    "            os.makedirs(self._data['data_dir'])\n",
    "        if not os.path.exists(self._data['out_dir']):\n",
    "            os.makedirs(self._data['out_dir'])\n",
    "\n",
    "    def __new__(cls):\n",
    "        if cls._instance is None:\n",
    "            cls._instance = super(Settings, cls).__new__(cls)\n",
    "            cls.set_config(cls, cls._fname)\n",
    "        return cls._instance\n",
    "    def get(self,atr):\n",
    "        return self._data[atr]\n",
    "    def set_attribute(self,atr, value):\n",
    "        self._data[atr] = value"
   ]
  },
  {
   "cell_type": "code",
   "execution_count": 3,
   "id": "union-reset",
   "metadata": {},
   "outputs": [],
   "source": [
    "#file list is []\n",
    "def get_min_max(wave_dict, file_list):\n",
    "    wave_min, wave_max = 0, 0\n",
    "    for f_p in file_list:\n",
    "        dataset = netcdf_dataset(os.path.join(Settings().get('data_dir'), f_p))\n",
    "        for wave in wave_dict.keys():\n",
    "            wave_data = dataset.variables[wave][0, :, :]\n",
    "            #wtf why i have temp here?\n",
    "            temp_min = wave_data.min()\n",
    "            temp_max = wave_data.max()\n",
    "            if temp_min < wave_min:\n",
    "                wave_min = temp_min\n",
    "            if temp_max > wave_max:\n",
    "                wave_max = temp_max\n",
    "        dataset.close()\n",
    "    return (wave_min, wave_max)\n"
   ]
  },
  {
   "cell_type": "code",
   "execution_count": 4,
   "id": "breeding-separation",
   "metadata": {},
   "outputs": [],
   "source": [
    "def make_ticks(w_min, w_max):\n",
    "    scale = w_max - w_min\n",
    "    if scale > 10:\n",
    "        num = floor((w_max - w_min)/2) + 1\n",
    "    else:\n",
    "        num = floor(w_max) + 1\n",
    "    ticks = np.linspace(floor(w_min), floor(w_max), num=num, dtype = int)\n",
    "    labels = []\n",
    "    for t in ticks:\n",
    "        if t == 0:\n",
    "            labels.append('flat')\n",
    "        elif t == 1:\n",
    "            labels.append('1 meter')\n",
    "        else:\n",
    "            labels.append(str(t)+ ' meters')\n",
    "    return ticks, labels"
   ]
  },
  {
   "cell_type": "code",
   "execution_count": 8,
   "id": "authorized-wilson",
   "metadata": {},
   "outputs": [
    {
     "name": "stdout",
     "output_type": "stream",
     "text": [
      "{'VHM0_WW': 'whatever'}\n"
     ]
    }
   ],
   "source": [
    "wave_dict = {\"VHM0_WW\": \"significant wind wave height\",\n",
    "            \"VHM0_SW1\": \"significant primary swell wave height\",\n",
    "            \"VHM0_SW2\": \"significant secondary swell wave height\"}\n",
    "\n",
    "stgs = Settings()\n",
    "proj = ccrs.PlateCarree()\n",
    "#settings_file = '\n",
    "data_file = 'testfile1.nc'\n",
    "wave_type = \"VHM0_WW\"\n",
    "wave_dict = {wave_type : \"whatever\"}\n",
    "print(wave_dict)\n",
    "\n",
    "file_path = os.path.join(Settings().get('data_dir'),data_file)\n",
    "data_list = [file_path] \n",
    "dataset = netcdf_dataset(file_path)\n",
    "dataset_xr = xr.open_dataset(file_path)\n",
    "(w_min, w_max) = get_min_max(wave_dict, data_list)\n",
    "wave = {\"var\": wave_type, \"name\": \"significant wind wave height\", \"min\": w_min, \"max\": w_max}\n",
    "lats = dataset.variables['latitude'][:]\n",
    "lons = dataset.variables['longitude'][:]\n",
    "wave_tn = dataset.variables[wave_type][0, :, :]\n",
    "cmap = cmocean.cm.deep\n",
    "#cmap = cmocean.cm.tempo\n",
    "levels = MaxNLocator(nbins=10).tick_values(w_min, w_max)\n",
    "norm = BoundaryNorm(levels, ncolors=cmap.N, clip=True)\n",
    "ticks,labels = make_ticks(w_min, w_max)\n",
    "  \n",
    "wave_var = wave_type\n",
    "wave_name = \"trala\"\n",
    "#    wave_var = wave['var']\n",
    " #   wave_name = wave['name']\n",
    "dx, dy = 0.05, 0.05"
   ]
  },
  {
   "cell_type": "code",
   "execution_count": 9,
   "id": "female-treasure",
   "metadata": {},
   "outputs": [],
   "source": [
    "def jupyter_single_frame_ultra( i_time):\n",
    "    \n",
    "    frame_n = 1\n",
    "    time_stamp_n = time_string\n",
    "    \n",
    "    wave_tn = dataset.variables[wave_var][i_time, :, :]\n",
    "    fig = plt.figure(figsize=(12, 6), clear=False)\n",
    "    \n",
    "    ax = fig.add_subplot(1, 1, 1, projection=proj)\n",
    "    \n",
    "   # bg = fig.canvas.copy_from_bbox(fig.bbox)\n",
    "    \n",
    "    #fig.canvas.blit(fig.bbox)\n",
    "    #tutaj\n",
    "   # ax.clear() \n",
    "    ax.set_extent([stgs.get('min_lon'),stgs.get('max_lon'),stgs.get('min_lat'),stgs.get('max_lat')], crs=proj)\n",
    "    geodetic_transform = ccrs.Geodetic()._as_mpl_transform(ax)\n",
    "    text_transform = offset_copy(geodetic_transform, units='dots', x=-25)\n",
    "\n",
    "    ax.plot(stgs.get('point_lon'), stgs.get('point_lat'), marker='o', color='red', markersize=8,\n",
    "            alpha=0.7, transform=ccrs.Geodetic())\n",
    "\n",
    "    ax.text(stgs.get('text_lon'), stgs.get('text_lat'), stgs.get('text_label'),\n",
    "            verticalalignment='bottom', horizontalalignment='left',\n",
    "            transform=text_transform,\n",
    "            bbox=dict(facecolor='white', alpha=0.5, boxstyle='round'))\n",
    "\n",
    "    \n",
    "    ax.set_title(wave_name + \" \" + time_stamp_n, fontsize=16)\n",
    "    \n",
    "    gr= ax.gridlines(draw_labels = True)\n",
    "    gr.right_labels = False\n",
    "    ax.coastlines()\n",
    "    ax.plot(stgs.get('point_lon'), stgs.get('point_lat'), marker='o', color='red', markersize=8,\n",
    "            alpha=0.7, transform=ccrs.Geodetic(), animated=True)\n",
    "    cs = plt.contour(lons, lats, wave_tn, levels = levels, colors='w', transform=ccrs.PlateCarree())\n",
    "    ax.clabel(cs, colors='w', fontsize=20)\n",
    "    contour_img = ax.contourf(lons + dx/2., lats + dy/2.,wave_tn, levels=levels, cmap=cmap)\n",
    "    cbar = fig.colorbar(contour_img, ax=ax, ticks = ticks)\n",
    "    cbar.ax.set_yticklabels(labels)\n",
    "    \n",
    "    plt.show(block=False)\n",
    "   "
   ]
  },
  {
   "cell_type": "code",
   "execution_count": 10,
   "id": "functioning-reset",
   "metadata": {},
   "outputs": [
    {
     "data": {
      "application/vnd.jupyter.widget-view+json": {
       "model_id": "4342b977fa46475faa58692a8d46b221",
       "version_major": 2,
       "version_minor": 0
      },
      "text/plain": [
       "interactive(children=(IntSlider(value=1, description='i_time', max=10, min=1), Output(layout=Layout(height='60…"
      ]
     },
     "metadata": {},
     "output_type": "display_data"
    }
   ],
   "source": [
    "import ipywidgets as widgets\n",
    "%matplotlib inline\n",
    "time_xr = dataset_xr['time']\n",
    "t0 = time_xr[0]\n",
    "ts = pd.to_datetime(str(t0.data)) \n",
    "time_string = ts.strftime('%Y.%m.%d %Hh:%M')\n",
    "\n",
    "#----------------\n",
    "\n",
    "   \n",
    "\n",
    "interactive_plot = widgets.interactive(jupyter_single_frame_ultra,  i_time = widgets.IntSlider(min=1, max=10, step=1, value=1))\n",
    "output = interactive_plot.children[-1]\n",
    "output.layout.height = '600px'\n",
    "output.layout.weight = '500px'\n",
    "interactive_plot"
   ]
  },
  {
   "cell_type": "code",
   "execution_count": 11,
   "id": "simplified-actress",
   "metadata": {},
   "outputs": [
    {
     "data": {
      "application/vnd.jupyter.widget-view+json": {
       "model_id": "2020379aaf5f4853a6265b700bee9568",
       "version_major": 2,
       "version_minor": 0
      },
      "text/plain": [
       "interactive(children=(FloatSlider(value=0.0, description='m', max=2.0, min=-2.0), FloatSlider(value=0.0, descr…"
      ]
     },
     "metadata": {},
     "output_type": "display_data"
    }
   ],
   "source": [
    "from ipywidgets import interactive\n",
    "import matplotlib.pyplot as plt\n",
    "import numpy as np\n",
    "\n",
    "def f(m, b):\n",
    "    plt.figure(2)\n",
    "    x = np.linspace(-10, 10, num=1000)\n",
    "    plt.plot(x, m * x + b)\n",
    "    plt.ylim(-5, 5)\n",
    "    plt.show()\n",
    "\n",
    "interactive_plot = interactive(f, m=(-2.0, 2.0), b=(-3, 3, 0.5))\n",
    "output = interactive_plot.children[-1]\n",
    "output.layout.height = '350px'\n",
    "interactive_plot"
   ]
  },
  {
   "cell_type": "code",
   "execution_count": null,
   "id": "brazilian-fairy",
   "metadata": {},
   "outputs": [],
   "source": []
  }
 ],
 "metadata": {
  "kernelspec": {
   "display_name": "Python 3",
   "language": "python",
   "name": "python3"
  },
  "language_info": {
   "codemirror_mode": {
    "name": "ipython",
    "version": 3
   },
   "file_extension": ".py",
   "mimetype": "text/x-python",
   "name": "python",
   "nbconvert_exporter": "python",
   "pygments_lexer": "ipython3",
   "version": "3.8.10"
  }
 },
 "nbformat": 4,
 "nbformat_minor": 5
}
